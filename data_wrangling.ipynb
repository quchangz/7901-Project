{
 "cells": [
  {
   "cell_type": "code",
   "execution_count": 1,
   "metadata": {},
   "outputs": [
    {
     "data": {
      "text/plain": [
       "(FlightNumber       0.000000\n",
       " Date               0.000000\n",
       " BoosterVersion     0.000000\n",
       " PayloadMass        6.382979\n",
       " Orbit              0.000000\n",
       " LaunchSite         0.000000\n",
       " Outcome            0.000000\n",
       " Flights            0.000000\n",
       " GridFins           0.000000\n",
       " Reused             0.000000\n",
       " Legs               0.000000\n",
       " LandingPad        31.914894\n",
       " Block              4.255319\n",
       " ReusedCount        0.000000\n",
       " Serial             0.000000\n",
       " Longitude          0.000000\n",
       " Latitude           0.000000\n",
       " dtype: float64,\n",
       " Index(['FlightNumber', 'PayloadMass', 'Flights', 'Block', 'ReusedCount',\n",
       "        'Longitude', 'Latitude'],\n",
       "       dtype='object'),\n",
       " Index(['Date', 'BoosterVersion', 'Orbit', 'LaunchSite', 'Outcome',\n",
       "        'LandingPad', 'Serial'],\n",
       "       dtype='object'),\n",
       " CCSFS SLC 40       55\n",
       " KSC LC 39A         22\n",
       " VAFB SLC 4E        13\n",
       " Kwajalein Atoll     4\n",
       " Name: LaunchSite, dtype: int64)"
      ]
     },
     "execution_count": 1,
     "metadata": {},
     "output_type": "execute_result"
    }
   ],
   "source": [
    "import requests\n",
    "import pandas as pd\n",
    "\n",
    "# Load the dataset\n",
    "file_path = 'dataset_space_API_past_launches_raw.csv'\n",
    "data = pd.read_csv(file_path)\n",
    "\n",
    "# Calculating the percentage of missing values in each column\n",
    "missing_values_percent = data.isnull().mean() * 100\n",
    "\n",
    "# Identifying numeric and categorical columns\n",
    "numeric_cols = data.select_dtypes(include=['float64', 'int64']).columns\n",
    "categorical_cols = data.select_dtypes(include=['object']).columns\n",
    "\n",
    "# Handling missing values for PayloadMass (example)\n",
    "# Here, we'll replace missing values with the mean of the column\n",
    "data['PayloadMass'].fillna(data['PayloadMass'].mean(), inplace=True)\n",
    "\n",
    "# Calculating the number of launches at each site\n",
    "launch_counts = data['LaunchSite'].value_counts()\n",
    "\n",
    "missing_values_percent, numeric_cols, categorical_cols, launch_counts\n",
    "\n"
   ]
  }
 ],
 "metadata": {
  "kernelspec": {
   "display_name": "Python 3",
   "language": "python",
   "name": "python3"
  },
  "language_info": {
   "codemirror_mode": {
    "name": "ipython",
    "version": 3
   },
   "file_extension": ".py",
   "mimetype": "text/x-python",
   "name": "python",
   "nbconvert_exporter": "python",
   "pygments_lexer": "ipython3",
   "version": "3.10.11"
  }
 },
 "nbformat": 4,
 "nbformat_minor": 2
}
