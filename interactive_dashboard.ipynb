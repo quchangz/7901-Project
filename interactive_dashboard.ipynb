{
 "cells": [
  {
   "cell_type": "code",
   "execution_count": 1,
   "metadata": {},
   "outputs": [],
   "source": [
    "import requests\n",
    "import pandas as pd\n",
    "\n",
    "# Load the dataset\n",
    "file_path = 'dataset_space_API_past_launches_raw.csv'\n",
    "data = pd.read_csv(file_path)\n",
    "\n",
    "# Calculating the percentage of missing values in each column\n",
    "missing_values_percent = data.isnull().mean() * 100\n",
    "\n",
    "# Identifying numeric and categorical columns\n",
    "numeric_cols = data.select_dtypes(include=['float64', 'int64']).columns\n",
    "categorical_cols = data.select_dtypes(include=['object']).columns\n",
    "\n",
    "# Handling missing values for PayloadMass (example)\n",
    "# Here, we'll replace missing values with the mean of the column\n",
    "data['PayloadMass'].fillna(data['PayloadMass'].mean(), inplace=True)\n",
    "\n",
    "# Calculating the number of launches at each site\n",
    "launch_counts = data['LaunchSite'].value_counts()"
   ]
  },
  {
   "cell_type": "code",
   "execution_count": 2,
   "metadata": {},
   "outputs": [
    {
     "name": "stderr",
     "output_type": "stream",
     "text": [
      "C:\\Users\\Quchang\\AppData\\Local\\Temp\\ipykernel_31012\\2697560100.py:2: UserWarning: \n",
      "The dash_core_components package is deprecated. Please replace\n",
      "`import dash_core_components as dcc` with `from dash import dcc`\n",
      "  import dash_core_components as dcc\n",
      "C:\\Users\\Quchang\\AppData\\Local\\Temp\\ipykernel_31012\\2697560100.py:3: UserWarning: \n",
      "The dash_html_components package is deprecated. Please replace\n",
      "`import dash_html_components as html` with `from dash import html`\n",
      "  import dash_html_components as html\n"
     ]
    },
    {
     "data": {
      "text/html": [
       "\n",
       "        <iframe\n",
       "            width=\"100%\"\n",
       "            height=\"650\"\n",
       "            src=\"http://127.0.0.1:8050/\"\n",
       "            frameborder=\"0\"\n",
       "            allowfullscreen\n",
       "            \n",
       "        ></iframe>\n",
       "        "
      ],
      "text/plain": [
       "<IPython.lib.display.IFrame at 0x2564f887d30>"
      ]
     },
     "metadata": {},
     "output_type": "display_data"
    }
   ],
   "source": [
    "import dash\n",
    "import dash_core_components as dcc\n",
    "import dash_html_components as html\n",
    "import plotly.express as px\n",
    "import pandas as pd\n",
    "\n",
    "# Neat Outcome information\n",
    "data['LandingOutcome'] = data['Outcome'].apply(lambda x: 'Success' if 'True' in x else 'Fail')\n",
    "\n",
    "# Create graph\n",
    "fig = px.scatter(data, x='PayloadMass', y='LandingOutcome', color='LandingOutcome',\n",
    "                 title='Payload Mass vs Landing Outcome')\n",
    "\n",
    "# initial Dash \n",
    "app = dash.Dash(__name__)\n",
    "\n",
    "# Set Dash layout\n",
    "app.layout = html.Div(children=[\n",
    "    html.H1(children='Payload Mass and Landing Outcome Analysis'),\n",
    "\n",
    "    html.Div(children='''\n",
    "        A Scatter Plot showing the relationship between Payload Mass and Landing Outcome.\n",
    "    '''),\n",
    "\n",
    "    dcc.Graph(\n",
    "        id='landing-outcome-graph',\n",
    "        figure=fig\n",
    "    )\n",
    "])\n",
    "\n",
    "# Run Dash\n",
    "if __name__ == '__main__':\n",
    "    app.run_server(debug=True)"
   ]
  }
 ],
 "metadata": {
  "kernelspec": {
   "display_name": "Python 3",
   "language": "python",
   "name": "python3"
  },
  "language_info": {
   "codemirror_mode": {
    "name": "ipython",
    "version": 3
   },
   "file_extension": ".py",
   "mimetype": "text/x-python",
   "name": "python",
   "nbconvert_exporter": "python",
   "pygments_lexer": "ipython3",
   "version": "3.10.11"
  }
 },
 "nbformat": 4,
 "nbformat_minor": 2
}
